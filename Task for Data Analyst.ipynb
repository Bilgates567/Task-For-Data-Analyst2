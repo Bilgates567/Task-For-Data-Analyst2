{
 "cells": [
  {
   "cell_type": "code",
   "execution_count": 1,
   "id": "87533ba7-2635-471a-957d-0e6f91ba02ef",
   "metadata": {},
   "outputs": [],
   "source": [
    "import numpy as np\n",
    "import pandas as pd\n",
    "import matplotlib.pyplot as plt\n",
    "import seaborn as sns\n",
    "import plotly.express as px\n",
    "import plotly.io as pio\n",
    "from sklearn.model_selection import train_test_split\n",
    "from sklearn.ensemble import RandomForestRegressor\n",
    "from sklearn.metrics import r2_score,mean_squared_error\n",
    "from nltk.sentiment.vader import SentimentIntensityAnalyzer\n",
    "import nltk \n",
    "import webbrowser\n",
    "import os"
   ]
  },
  {
   "cell_type": "code",
   "execution_count": 2,
   "id": "b7d1b82b-a077-4605-9d59-bd2fa15e4e08",
   "metadata": {},
   "outputs": [
    {
     "name": "stderr",
     "output_type": "stream",
     "text": [
      "[nltk_data] Downloading package vader_lexicon to\n",
      "[nltk_data]     C:\\Users\\arock\\AppData\\Roaming\\nltk_data...\n",
      "[nltk_data]   Package vader_lexicon is already up-to-date!\n"
     ]
    },
    {
     "data": {
      "text/plain": [
       "True"
      ]
     },
     "execution_count": 2,
     "metadata": {},
     "output_type": "execute_result"
    }
   ],
   "source": [
    "nltk.download('vader_lexicon')"
   ]
  },
  {
   "cell_type": "code",
   "execution_count": 3,
   "id": "c31f0e37-53cf-4699-bfaa-856217844dbf",
   "metadata": {},
   "outputs": [],
   "source": [
    "apps_df = pd.read_csv(\"Play Store Data.csv\")\n",
    "reviews_df = pd.read_csv(\"User Reviews.csv\")"
   ]
  },
  {
   "cell_type": "code",
   "execution_count": 4,
   "id": "eb1a9364-8234-406c-9f22-771241298562",
   "metadata": {},
   "outputs": [
    {
     "name": "stdout",
     "output_type": "stream",
     "text": [
      "App                  0\n",
      "Category             0\n",
      "Rating            1474\n",
      "Reviews              0\n",
      "Size                 0\n",
      "Installs             0\n",
      "Type                 1\n",
      "Price                0\n",
      "Content Rating       1\n",
      "Genres               0\n",
      "Last Updated         0\n",
      "Current Ver          8\n",
      "Android Ver          3\n",
      "dtype: int64\n"
     ]
    }
   ],
   "source": [
    "print(apps_df.isnull().sum())"
   ]
  },
  {
   "cell_type": "code",
   "execution_count": 5,
   "id": "4111db80-9215-472b-9f13-cda269386400",
   "metadata": {},
   "outputs": [
    {
     "name": "stderr",
     "output_type": "stream",
     "text": [
      "C:\\Users\\arock\\AppData\\Local\\Temp\\ipykernel_22932\\3885811319.py:4: FutureWarning: A value is trying to be set on a copy of a DataFrame or Series through chained assignment using an inplace method.\n",
      "The behavior will change in pandas 3.0. This inplace method will never work because the intermediate object on which we are setting values always behaves as a copy.\n",
      "\n",
      "For example, when doing 'df[col].method(value, inplace=True)', try using 'df.method({col: value}, inplace=True)' or df[col] = df[col].method(value) instead, to perform the operation inplace on the original object.\n",
      "\n",
      "\n",
      "  apps_df[col].fillna(apps_df[col].mode()[0],inplace=True)\n"
     ]
    }
   ],
   "source": [
    "# data cleaning\n",
    "apps_df = apps_df.dropna(subset=['Rating'])\n",
    "for col in apps_df.columns:\n",
    "    apps_df[col].fillna(apps_df[col].mode()[0],inplace=True)\n",
    "apps_df.drop_duplicates(inplace=True)\n",
    "apps_df=apps_df[apps_df['Rating']<=5]\n",
    "reviews_df.dropna(subset=['Translated_Review'],inplace=True)"
   ]
  },
  {
   "cell_type": "code",
   "execution_count": 6,
   "id": "7fe75dc8-29f9-4360-ae25-8c1acce8797b",
   "metadata": {},
   "outputs": [
    {
     "name": "stdout",
     "output_type": "stream",
     "text": [
      "App               0\n",
      "Category          0\n",
      "Rating            0\n",
      "Reviews           0\n",
      "Size              0\n",
      "Installs          0\n",
      "Type              0\n",
      "Price             0\n",
      "Content Rating    0\n",
      "Genres            0\n",
      "Last Updated      0\n",
      "Current Ver       0\n",
      "Android Ver       0\n",
      "dtype: int64\n"
     ]
    }
   ],
   "source": [
    "print(apps_df.isnull().sum())"
   ]
  },
  {
   "cell_type": "code",
   "execution_count": 7,
   "id": "d5ab355c-78ee-4c62-b895-c401293b6335",
   "metadata": {},
   "outputs": [
    {
     "data": {
      "text/plain": [
       "App                       0\n",
       "Translated_Review         0\n",
       "Sentiment                 0\n",
       "Sentiment_Polarity        0\n",
       "Sentiment_Subjectivity    0\n",
       "dtype: int64"
      ]
     },
     "execution_count": 7,
     "metadata": {},
     "output_type": "execute_result"
    }
   ],
   "source": [
    "reviews_df.isnull().sum()"
   ]
  },
  {
   "cell_type": "code",
   "execution_count": 8,
   "id": "c107807a-87e1-49a7-9a75-d83a5ea9c583",
   "metadata": {},
   "outputs": [],
   "source": [
    "apps_df['Installs'] = apps_df['Installs'].str.replace(',','').str.replace('+','').astype(int)\n",
    "apps_df['Price'] = apps_df['Price'].str.replace('$','').astype(float)"
   ]
  },
  {
   "cell_type": "code",
   "execution_count": 9,
   "id": "c4fcb3e7-49db-4a71-acb2-37396d4c5e1b",
   "metadata": {},
   "outputs": [],
   "source": [
    "# Merge the data set\n",
    "merge_df = pd.merge(apps_df,reviews_df,on='App',how='inner')"
   ]
  },
  {
   "cell_type": "code",
   "execution_count": 10,
   "id": "149fe043-d457-4b5f-8055-b2a9698daccf",
   "metadata": {},
   "outputs": [],
   "source": [
    "# data Transformation\n",
    "def coverted_size(size):\n",
    "    if 'M' in size:\n",
    "        return float(size.replace('M',''))\n",
    "    elif 'k' in size:\n",
    "        return float(size.replace('k',''))/1024\n",
    "    else:\n",
    "        return np.nan\n",
    "apps_df['Size'] = apps_df['Size'].apply(coverted_size)"
   ]
  },
  {
   "cell_type": "code",
   "execution_count": 11,
   "id": "e8edb529-c881-49f6-809c-a20c0a7a12ad",
   "metadata": {},
   "outputs": [],
   "source": [
    "apps_df['Reviews'] = apps_df['Reviews'].astype(int)"
   ]
  },
  {
   "cell_type": "code",
   "execution_count": 12,
   "id": "5074ea7b-0aa0-48da-b9bc-22512755af2b",
   "metadata": {},
   "outputs": [],
   "source": [
    "# Add log_installs and log_reviews columns\n",
    "apps_df['Log_Installs'] = np.log1p(apps_df['Installs'])\n",
    "apps_df['Log_Reviews'] = np.log1p(apps_df['Reviews'])"
   ]
  },
  {
   "cell_type": "code",
   "execution_count": 13,
   "id": "548dc764-2ba8-4bf9-b414-8fb731f3d2da",
   "metadata": {},
   "outputs": [],
   "source": [
    "# Add Rating Group column\n",
    "def rating_group(rating):\n",
    "    if rating >= 4:\n",
    "        return 'Top rated'\n",
    "    elif rating >= 3:\n",
    "        return 'Above average'\n",
    "    elif rating >= 2:\n",
    "        return 'Average'\n",
    "    else:\n",
    "        return 'Below average'\n",
    "\n",
    "apps_df['Rating_Group'] = apps_df['Rating'].apply(rating_group)"
   ]
  },
  {
   "cell_type": "code",
   "execution_count": 14,
   "id": "d8cc8186-1365-4413-b960-2ddfed702935",
   "metadata": {},
   "outputs": [],
   "source": [
    "sia = SentimentIntensityAnalyzer()"
   ]
  },
  {
   "cell_type": "code",
   "execution_count": 15,
   "id": "f76b6eb2-e3d8-4581-aae3-ba822be7f336",
   "metadata": {},
   "outputs": [],
   "source": [
    "reviews_df['Sentimate_Score'] = reviews_df['Translated_Review'].apply(lambda x:sia.polarity_scores(str(x))['compound'])"
   ]
  },
  {
   "cell_type": "code",
   "execution_count": 16,
   "id": "30a55f63-aeac-483a-b40e-3bf3c05b44b4",
   "metadata": {},
   "outputs": [],
   "source": [
    "apps_df['Last Updated'] = pd.to_datetime(apps_df['Last Updated'],errors='coerce')\n",
    "apps_df['Year'] = apps_df['Last Updated'].dt.year"
   ]
  },
  {
   "cell_type": "code",
   "execution_count": 17,
   "id": "668bd4ce-4b09-43c3-9517-d2897a05026b",
   "metadata": {},
   "outputs": [],
   "source": [
    "# Define the path for your HTML files\n",
    "html_files_path = \"./\"\n",
    "\n",
    "# Make sure the directory exists\n",
    "if not os.path.exists(html_files_path):\n",
    "    os.makedirs(html_files_path)\n",
    "\n",
    "# Initialize plot_containers\n",
    "plot_containers = \"\"\n",
    "\n",
    "# Save each Plotly figure to an HTML file\n",
    "def save_plot_as_html(fig, filename, insight):\n",
    "    global plot_containers\n",
    "    filepath = os.path.join(html_files_path, filename)\n",
    "    html_content = pio.to_html(fig, full_html=False, include_plotlyjs='inline')\n",
    "    # Append the plot and its insight to plot_containers\n",
    "    plot_containers += f\"\"\"\n",
    "    <div class=\"plot-container\" id=\"{filename}\" onclick=\"openPlot('{filename}')\">\n",
    "        <div class=\"plot\">{html_content}</div>\n",
    "        <div class=\"insights\">{insight}</div>\n",
    "    </div>\n",
    "    \"\"\"\n",
    "    fig.write_html(filepath, full_html=False, include_plotlyjs='inline')\n",
    "\n",
    "# Define your plots\n",
    "plot_width = 520\n",
    "plot_height = 520\n",
    "plot_bg_color = 'black'\n",
    "text_color = 'white'\n",
    "title_font = {'size': 16}\n",
    "axis_font = {'size': 12}"
   ]
  },
  {
   "cell_type": "code",
   "execution_count": 18,
   "id": "4a737962-ecb0-4857-abea-cda672b30281",
   "metadata": {},
   "outputs": [],
   "source": [
    "# Create a revenue column for paid apps\n",
    "apps_df['Revenue'] = apps_df['Price'] * apps_df['Installs']\n",
    "\n",
    "# Filter for paid apps only\n",
    "paid_df = apps_df[apps_df['Type'] == 'Paid']\n",
    "\n",
    "\n",
    "fig1 = px.scatter(\n",
    "    paid_df,\n",
    "    x='Installs',\n",
    "    y='Revenue',\n",
    "    color='Category',\n",
    "    title='Revenue vs. Installs for Paid Apps',\n",
    "    color_discrete_sequence=px.colors.qualitative.Vivid,\n",
    "    labels={'Installs': 'Number of Installs', 'Revenue': 'Revenue (USD)'},\n",
    "    width=plot_width,\n",
    "    trendline='ols',\n",
    "    height=plot_height\n",
    ")\n",
    "fig1.update_layout(\n",
    "    plot_bgcolor=plot_bg_color,\n",
    "    paper_bgcolor=plot_bg_color,\n",
    "    font_color=text_color,\n",
    "    title_font=title_font,\n",
    "    xaxis=dict(title_font=axis_font),\n",
    "    yaxis=dict(title_font=axis_font),\n",
    "    margin=dict(l=10, r=10, t=30, b=10)\n",
    ")\n",
    "fig1.update_traces(marker=dict(line=dict(color=text_color, width=1)))\n",
    "save_plot_as_html(fig1, \"Paid_apps.html\", \"The scatter plot shows that paid apps, especially in Games and Productivity, have a positive correlation between revenue and installs. This indicates users are willing to pay for high-quality apps that offer utility or entertainment.\")\n"
   ]
  },
  {
   "cell_type": "code",
   "execution_count": 19,
   "id": "76b2a6a9-0a1c-4699-9ca3-ccce39ceb073",
   "metadata": {},
   "outputs": [],
   "source": [
    "from plotly.subplots import make_subplots,go"
   ]
  },
  {
   "cell_type": "code",
   "execution_count": 20,
   "id": "c31fcec8-3b41-4546-a0e8-938aa001f89a",
   "metadata": {},
   "outputs": [],
   "source": [
    "# Calculate average installs and revenue for free vs. paid apps within the top 3 categories\n",
    "top_categories = apps_df['Category'].value_counts().nlargest(3).index\n",
    "filtered_df = apps_df[\n",
    "    (apps_df['Installs'] > 10000) & \n",
    "    (apps_df['Revenue'] > 10000) &\n",
    "    (apps_df['Android Ver'] > '4.0') & \n",
    "    (apps_df['Size'] > 15) &  # Size in bytes\n",
    "    (apps_df['Content Rating'] == 'Everyone') &\n",
    "    (apps_df['App'].str.len() <= 30) & \n",
    "    (apps_df['Category'].isin(top_categories))\n",
    "]\n",
    "\n",
    "# Group by category and type (Free or Paid) to get average installs and revenue\n",
    "grouped_df = filtered_df.groupby(['Category', 'Type']).agg(\n",
    "    avg_installs=('Installs', 'mean'),\n",
    "    avg_revenue=('Revenue', 'mean')\n",
    ").reset_index()\n",
    "\n",
    "# Create a dual-axis chart with Plotly\n",
    "fig2 = make_subplots(specs=[[{\"secondary_y\": True}]])  # Create dual axis\n",
    "\n",
    "# Add bar chart for average installs\n",
    "fig2.add_trace(\n",
    "    go.Bar(x=grouped_df['Category'], y=grouped_df['avg_installs'], name=\"Average Installs\", marker_color='blue'),\n",
    "    secondary_y=False,\n",
    ")\n",
    "\n",
    "# Add line chart for average revenue\n",
    "fig2.add_trace(\n",
    "    go.Scatter(x=grouped_df['Category'], y=grouped_df['avg_revenue'], name=\"Average Revenue\", mode='lines+markers', line=dict(color='green')),\n",
    "    secondary_y=True\n",
    ")\n",
    "\n",
    "# Update layout for better appearance\n",
    "fig2.update_layout(\n",
    "    title_text=\"Average Installs & Revenue for Free vs.Paid Apps Top 3 Categories\",\n",
    "    plot_bgcolor=plot_bg_color,\n",
    "    paper_bgcolor=plot_bg_color,\n",
    "    font_color=text_color,\n",
    "    title_font=title_font,\n",
    "    margin=dict(l=10, r=10, t=30, b=10),\n",
    "    width=512,\n",
    "    height=512 \n",
    ")\n",
    "\n",
    "# Add axis titles\n",
    "fig2.update_xaxes(title_text=\"App Category\")\n",
    "fig2.update_yaxes(title_text=\"Average Installs\", secondary_y=False)\n",
    "fig2.update_yaxes(title_text=\"Average Revenue (USD)\", secondary_y=True)\n",
    "\n",
    "# Save the plot\n",
    "save_plot_as_html(fig2, \"average_installs_revenue.html\", \"The dual-axis chart shows that, after filtering for installs, revenue, and ratings, paid apps generally generate higher revenue, while free apps attract more installs. This suggests users prefer accessible free apps.\")\n"
   ]
  },
  {
   "cell_type": "code",
   "execution_count": 21,
   "id": "2aa65d9e-7ad5-4b60-88c3-e07ea7b84929",
   "metadata": {},
   "outputs": [
    {
     "data": {
      "text/plain": [
       "0         True\n",
       "1         True\n",
       "2         True\n",
       "3         True\n",
       "4         True\n",
       "         ...  \n",
       "10834    False\n",
       "10836    False\n",
       "10837     True\n",
       "10839    False\n",
       "10840     True\n",
       "Name: Last Updated, Length: 8892, dtype: bool"
      ]
     },
     "execution_count": 21,
     "metadata": {},
     "output_type": "execute_result"
    }
   ],
   "source": [
    "apps_df['Last Updated'] > '2018-01-01'"
   ]
  },
  {
   "cell_type": "code",
   "execution_count": 22,
   "id": "ab3ed981-f804-4388-861e-f032a48936bf",
   "metadata": {},
   "outputs": [
    {
     "name": "stdout",
     "output_type": "stream",
     "text": [
      "This plot can only be generated between 3 PM and 6 PM.\n"
     ]
    }
   ],
   "source": [
    "# Filter the data for apps updated in the last year and meeting criteria\n",
    "import datetime\n",
    "current_hour = datetime.datetime.now().hour\n",
    "if 15 <= current_hour < 18:\n",
    "    filtered_df = apps_df[\n",
    "        (apps_df['Last Updated']>'2018-01-01') & \n",
    "        (apps_df['Installs'] >= 100000) & \n",
    "        (apps_df['Reviews'] >= 1000) & \n",
    "        (~apps_df['Genres'].str.startswith(('A', 'F', 'E', 'G', 'I', 'K')))\n",
    "    ]\n",
    "    \n",
    "    # Create a correlation matrix for Installs, Ratings, and Reviews\n",
    "    correlation_matrix = filtered_df[['Installs', 'Rating', 'Reviews']].corr()\n",
    "    \n",
    "    # Create a heatmap using Plotly\n",
    "    fig3 = px.imshow(\n",
    "        correlation_matrix,\n",
    "        text_auto=True,\n",
    "        color_continuous_scale='Viridis',\n",
    "        labels={'color': 'Correlation'},\n",
    "        title='Correlation Matrix: Installs, Ratings, and Reviews',\n",
    "        width=plot_width,\n",
    "        height=plot_height\n",
    "        \n",
    "        \n",
    "    )\n",
    "    \n",
    "    # Update layout for better appearance\n",
    "    fig3.update_layout(\n",
    "        plot_bgcolor=plot_bg_color,\n",
    "        paper_bgcolor=plot_bg_color,\n",
    "        font_color=text_color,\n",
    "        title_font=title_font,\n",
    "        width=plot_width,\n",
    "        height=plot_height,\n",
    "        margin=dict(l=10, r=10, t=30, b=10)\n",
    "    )\n",
    "    \n",
    "    # Save the plot\n",
    "    save_plot_as_html(fig3, \"correlation_matrix.html\", \"The heatmap shows the correlation between installs, ratings, and review counts for apps updated in the last year. Filtering for apps with over 100,000 installs and 1,000 reviews, while excluding certain genres, indicates that higher ratings correlate with more installs and reviews\")\n",
    "else:\n",
    "    print(\"This plot can only be generated between 3 PM and 6 PM.\")"
   ]
  },
  {
   "cell_type": "code",
   "execution_count": 23,
   "id": "e5b29ed4-10f0-4b47-af3e-6d1a978bd3dc",
   "metadata": {},
   "outputs": [],
   "source": [
    "# Split plot_containers to handle the last plot properly\n",
    "plot_containers_split = plot_containers.split('</div>')\n",
    "if len(plot_containers_split) > 1:\n",
    "    final_plot = plot_containers_split[-2] + '</div>'\n",
    "else:\n",
    "    final_plot = plot_containers  # Use plot_containers as default if splitting isn't sufficient"
   ]
  },
  {
   "cell_type": "code",
   "execution_count": 24,
   "id": "ff905103-bee4-4499-aa09-92930a036874",
   "metadata": {},
   "outputs": [],
   "source": [
    "# HTML template for the dashboard\n",
    "dashboard_html = \"\"\"\n",
    "<!DOCTYPE html>\n",
    "<html lang=\"en\">\n",
    "<head>\n",
    "    <meta charset=\"UTF-8\">\n",
    "    <meta name=\"viewport\" content=\"width=device-width, initial-scale=1.0\">\n",
    "    <title>Google Play Store Reviews Analytics</title>\n",
    "    <style>\n",
    "    body {{\n",
    "        font-family: Arial, sans-serif;\n",
    "        background-color: #333;\n",
    "        color: #fff;\n",
    "        margin: 0;\n",
    "        padding: 0;\n",
    "    }}\n",
    "    .header {{\n",
    "        display: flex;\n",
    "        align-items: center;\n",
    "        justify-content: center;\n",
    "        padding: 20px;\n",
    "        background-color: #444;\n",
    "    }}\n",
    "    .header img {{\n",
    "        margin: 0 10px;\n",
    "        height: 50px;\n",
    "    }}\n",
    "    .container {{\n",
    "        display: flex;\n",
    "        flex-wrap: wrap;\n",
    "        justify-content: center;\n",
    "        padding: 20px;\n",
    "    }}\n",
    "    .plot-container {{\n",
    "        border: 2px solid #555;\n",
    "        margin: 10px;\n",
    "        padding: 10px;\n",
    "        width: 400px; \n",
    "        height: 300px; \n",
    "        overflow: hidden;\n",
    "        position: relative;\n",
    "        cursor: pointer;\n",
    "    }}\n",
    "    .insights {{\n",
    "        display: none;\n",
    "        position: absolute;\n",
    "        right: 10px;\n",
    "        top: 10px;\n",
    "        background-color: rgba(0, 0, 0, 0.7);\n",
    "        padding: 5px;\n",
    "        border-radius: 5px;\n",
    "        color: #fff;\n",
    "    }}\n",
    "    .plot-container:hover .insights {{\n",
    "        display: block;\n",
    "    }}\n",
    "    h2 {{\n",
    "        text-align: center;\n",
    "        margin: 20px 0;\n",
    "        font-size: 24px;\n",
    "        color: #fff;\n",
    "    }}\n",
    "    /* Media query for tablets and smaller screens */\n",
    "    @media (max-width: 768px) {{\n",
    "        .plot-container {{\n",
    "            width: 80vw; \n",
    "            height: 60vh; \n",
    "        }}\n",
    "        .header {{\n",
    "            flex-direction: column; \n",
    "            text-align: center; \n",
    "        }}\n",
    "        .header img {{\n",
    "            height: 40px; \n",
    "        }}\n",
    "        h2 {{\n",
    "            font-size: 20px; \n",
    "        }}\n",
    "    }}\n",
    "    /* Media query for very small screens like mobile phones */\n",
    "    @media (max-width: 480px) {{\n",
    "        .plot-container {{\n",
    "            width: 95vw; \n",
    "            height: auto; \n",
    "        }}\n",
    "        .header img {{\n",
    "            height: 30px; \n",
    "        }}\n",
    "        h2 {{\n",
    "            font-size: 18px; \n",
    "        }}\n",
    "    }}\n",
    "</style>\n",
    "    <script>\n",
    "        function openPlot(filename) {{\n",
    "            window.open(filename, '_blank');\n",
    "        }}\n",
    "    </script>\n",
    "</head>\n",
    "<body>\n",
    "    <div class=\"header\">\n",
    "        <img src=\"https://upload.wikimedia.org/wikipedia/commons/thumb/4/4a/Logo_2013_Google.png/800px-Logo_2013_Google.png\" alt=\"Google Logo\">\n",
    "        <h1>Google Play Store Reviews Analytics</h1>\n",
    "        <img src=\"https://upload.wikimedia.org/wikipedia/commons/thumb/7/78/Google_Play_Store_badge_EN.svg/1024px-Google_Play_Store_badge_EN.svg.png\" alt=\"Google Play Store Logo\">\n",
    "    </div>\n",
    "    <div class=\"container\">\n",
    "        {plots}\n",
    "    </div>\n",
    "</body>\n",
    "</html>\n",
    "\"\"\"\n"
   ]
  },
  {
   "cell_type": "code",
   "execution_count": 25,
   "id": "fed354e7-8da0-491b-afb9-94bba0be1ac5",
   "metadata": {},
   "outputs": [
    {
     "data": {
      "text/plain": [
       "True"
      ]
     },
     "execution_count": 25,
     "metadata": {},
     "output_type": "execute_result"
    }
   ],
   "source": [
    "# Use these containers to fill in your dashboard HTML\n",
    "final_html = dashboard_html.format(plots=plot_containers, plot_width=plot_width, plot_height=plot_height)\n",
    "\n",
    "# Save the final dashboard to an HTML file\n",
    "dashboard_path = os.path.join(html_files_path, \"index.html\")\n",
    "with open(dashboard_path, \"w\", encoding=\"utf-8\") as f:\n",
    "    f.write(final_html)\n",
    "\n",
    "# Automatically open the generated HTML file in a web browser\n",
    "webbrowser.open('file://' + os.path.realpath(dashboard_path))"
   ]
  },
  {
   "cell_type": "code",
   "execution_count": null,
   "id": "484f4f2b-e26b-4701-a89d-1f6e69fef80a",
   "metadata": {},
   "outputs": [],
   "source": []
  }
 ],
 "metadata": {
  "kernelspec": {
   "display_name": "Python 3 (ipykernel)",
   "language": "python",
   "name": "python3"
  },
  "language_info": {
   "codemirror_mode": {
    "name": "ipython",
    "version": 3
   },
   "file_extension": ".py",
   "mimetype": "text/x-python",
   "name": "python",
   "nbconvert_exporter": "python",
   "pygments_lexer": "ipython3",
   "version": "3.11.8"
  }
 },
 "nbformat": 4,
 "nbformat_minor": 5
}
