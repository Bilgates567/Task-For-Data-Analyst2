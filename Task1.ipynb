{
 "cells": [
  {
   "cell_type": "code",
   "execution_count": 1,
   "id": "df2becae-0a8b-48b9-9274-012cb64c958b",
   "metadata": {},
   "outputs": [],
   "source": [
    "import numpy as np\n",
    "import pandas as pd\n",
    "import matplotlib.pyplot as plt\n",
    "import seaborn as sns\n",
    "import plotly.express as px\n",
    "import plotly.io as pio\n",
    "from sklearn.model_selection import train_test_split\n",
    "from sklearn.ensemble import RandomForestRegressor\n",
    "from sklearn.metrics import r2_score,mean_squared_error\n",
    "from nltk.sentiment.vader import SentimentIntensityAnalyzer\n",
    "import nltk \n",
    "import webbrowser\n",
    "import os"
   ]
  },
  {
   "cell_type": "markdown",
   "id": "671a0a07-8ebb-489f-b266-e195c1fbc42a",
   "metadata": {},
   "source": [
    "# Load DataSet"
   ]
  },
  {
   "cell_type": "code",
   "execution_count": 6,
   "id": "cb9480ea-7007-43f4-be77-fd0706e92ee4",
   "metadata": {},
   "outputs": [],
   "source": [
    "apps_df = pd.read_csv(\"Play Store Data.csv\")\n",
    "reviews_df = pd.read_csv(\"User Reviews.csv\")"
   ]
  },
  {
   "cell_type": "code",
   "execution_count": 7,
   "id": "94c8c068-a82c-40ea-b300-5e9319fb70e0",
   "metadata": {},
   "outputs": [
    {
     "data": {
      "text/html": [
       "<div>\n",
       "<style scoped>\n",
       "    .dataframe tbody tr th:only-of-type {\n",
       "        vertical-align: middle;\n",
       "    }\n",
       "\n",
       "    .dataframe tbody tr th {\n",
       "        vertical-align: top;\n",
       "    }\n",
       "\n",
       "    .dataframe thead th {\n",
       "        text-align: right;\n",
       "    }\n",
       "</style>\n",
       "<table border=\"1\" class=\"dataframe\">\n",
       "  <thead>\n",
       "    <tr style=\"text-align: right;\">\n",
       "      <th></th>\n",
       "      <th>App</th>\n",
       "      <th>Category</th>\n",
       "      <th>Rating</th>\n",
       "      <th>Reviews</th>\n",
       "      <th>Size</th>\n",
       "      <th>Installs</th>\n",
       "      <th>Type</th>\n",
       "      <th>Price</th>\n",
       "      <th>Content Rating</th>\n",
       "      <th>Genres</th>\n",
       "      <th>Last Updated</th>\n",
       "      <th>Current Ver</th>\n",
       "      <th>Android Ver</th>\n",
       "    </tr>\n",
       "  </thead>\n",
       "  <tbody>\n",
       "    <tr>\n",
       "      <th>0</th>\n",
       "      <td>Photo Editor &amp; Candy Camera &amp; Grid &amp; ScrapBook</td>\n",
       "      <td>ART_AND_DESIGN</td>\n",
       "      <td>4.1</td>\n",
       "      <td>159</td>\n",
       "      <td>19M</td>\n",
       "      <td>10,000+</td>\n",
       "      <td>Free</td>\n",
       "      <td>0</td>\n",
       "      <td>Everyone</td>\n",
       "      <td>Art &amp; Design</td>\n",
       "      <td>January 7, 2018</td>\n",
       "      <td>1.0.0</td>\n",
       "      <td>4.0.3 and up</td>\n",
       "    </tr>\n",
       "    <tr>\n",
       "      <th>1</th>\n",
       "      <td>Coloring book moana</td>\n",
       "      <td>ART_AND_DESIGN</td>\n",
       "      <td>3.9</td>\n",
       "      <td>967</td>\n",
       "      <td>14M</td>\n",
       "      <td>500,000+</td>\n",
       "      <td>Free</td>\n",
       "      <td>0</td>\n",
       "      <td>Everyone</td>\n",
       "      <td>Art &amp; Design;Pretend Play</td>\n",
       "      <td>January 15, 2018</td>\n",
       "      <td>2.0.0</td>\n",
       "      <td>4.0.3 and up</td>\n",
       "    </tr>\n",
       "    <tr>\n",
       "      <th>2</th>\n",
       "      <td>U Launcher Lite – FREE Live Cool Themes, Hide ...</td>\n",
       "      <td>ART_AND_DESIGN</td>\n",
       "      <td>4.7</td>\n",
       "      <td>87510</td>\n",
       "      <td>8.7M</td>\n",
       "      <td>5,000,000+</td>\n",
       "      <td>Free</td>\n",
       "      <td>0</td>\n",
       "      <td>Everyone</td>\n",
       "      <td>Art &amp; Design</td>\n",
       "      <td>August 1, 2018</td>\n",
       "      <td>1.2.4</td>\n",
       "      <td>4.0.3 and up</td>\n",
       "    </tr>\n",
       "    <tr>\n",
       "      <th>3</th>\n",
       "      <td>Sketch - Draw &amp; Paint</td>\n",
       "      <td>ART_AND_DESIGN</td>\n",
       "      <td>4.5</td>\n",
       "      <td>215644</td>\n",
       "      <td>25M</td>\n",
       "      <td>50,000,000+</td>\n",
       "      <td>Free</td>\n",
       "      <td>0</td>\n",
       "      <td>Teen</td>\n",
       "      <td>Art &amp; Design</td>\n",
       "      <td>June 8, 2018</td>\n",
       "      <td>Varies with device</td>\n",
       "      <td>4.2 and up</td>\n",
       "    </tr>\n",
       "    <tr>\n",
       "      <th>4</th>\n",
       "      <td>Pixel Draw - Number Art Coloring Book</td>\n",
       "      <td>ART_AND_DESIGN</td>\n",
       "      <td>4.3</td>\n",
       "      <td>967</td>\n",
       "      <td>2.8M</td>\n",
       "      <td>100,000+</td>\n",
       "      <td>Free</td>\n",
       "      <td>0</td>\n",
       "      <td>Everyone</td>\n",
       "      <td>Art &amp; Design;Creativity</td>\n",
       "      <td>June 20, 2018</td>\n",
       "      <td>1.1</td>\n",
       "      <td>4.4 and up</td>\n",
       "    </tr>\n",
       "  </tbody>\n",
       "</table>\n",
       "</div>"
      ],
      "text/plain": [
       "                                                 App        Category  Rating  \\\n",
       "0     Photo Editor & Candy Camera & Grid & ScrapBook  ART_AND_DESIGN     4.1   \n",
       "1                                Coloring book moana  ART_AND_DESIGN     3.9   \n",
       "2  U Launcher Lite – FREE Live Cool Themes, Hide ...  ART_AND_DESIGN     4.7   \n",
       "3                              Sketch - Draw & Paint  ART_AND_DESIGN     4.5   \n",
       "4              Pixel Draw - Number Art Coloring Book  ART_AND_DESIGN     4.3   \n",
       "\n",
       "  Reviews  Size     Installs  Type Price Content Rating  \\\n",
       "0     159   19M      10,000+  Free     0       Everyone   \n",
       "1     967   14M     500,000+  Free     0       Everyone   \n",
       "2   87510  8.7M   5,000,000+  Free     0       Everyone   \n",
       "3  215644   25M  50,000,000+  Free     0           Teen   \n",
       "4     967  2.8M     100,000+  Free     0       Everyone   \n",
       "\n",
       "                      Genres      Last Updated         Current Ver  \\\n",
       "0               Art & Design   January 7, 2018               1.0.0   \n",
       "1  Art & Design;Pretend Play  January 15, 2018               2.0.0   \n",
       "2               Art & Design    August 1, 2018               1.2.4   \n",
       "3               Art & Design      June 8, 2018  Varies with device   \n",
       "4    Art & Design;Creativity     June 20, 2018                 1.1   \n",
       "\n",
       "    Android Ver  \n",
       "0  4.0.3 and up  \n",
       "1  4.0.3 and up  \n",
       "2  4.0.3 and up  \n",
       "3    4.2 and up  \n",
       "4    4.4 and up  "
      ]
     },
     "execution_count": 7,
     "metadata": {},
     "output_type": "execute_result"
    }
   ],
   "source": [
    "apps_df.head()"
   ]
  },
  {
   "cell_type": "markdown",
   "id": "7fd17fec-5ce1-4909-ad71-9a803828d1dd",
   "metadata": {},
   "source": [
    "# Check Null Values"
   ]
  },
  {
   "cell_type": "code",
   "execution_count": 4,
   "id": "da8d0613-3372-4e8d-ad33-027742c99b69",
   "metadata": {},
   "outputs": [
    {
     "name": "stdout",
     "output_type": "stream",
     "text": [
      "App                  0\n",
      "Category             0\n",
      "Rating            1474\n",
      "Reviews              0\n",
      "Size                 0\n",
      "Installs             0\n",
      "Type                 1\n",
      "Price                0\n",
      "Content Rating       1\n",
      "Genres               0\n",
      "Last Updated         0\n",
      "Current Ver          8\n",
      "Android Ver          3\n",
      "dtype: int64\n"
     ]
    }
   ],
   "source": [
    "print(apps_df.isnull().sum())"
   ]
  },
  {
   "cell_type": "markdown",
   "id": "595d1897-dd65-43f3-a9a8-58e228e9d65c",
   "metadata": {},
   "source": [
    "# data cleaning"
   ]
  },
  {
   "cell_type": "code",
   "execution_count": 8,
   "id": "ad80be48-d6f0-45c1-b875-44917fa1db78",
   "metadata": {},
   "outputs": [
    {
     "name": "stderr",
     "output_type": "stream",
     "text": [
      "C:\\Users\\arock\\AppData\\Local\\Temp\\ipykernel_17012\\3655530634.py:3: FutureWarning: A value is trying to be set on a copy of a DataFrame or Series through chained assignment using an inplace method.\n",
      "The behavior will change in pandas 3.0. This inplace method will never work because the intermediate object on which we are setting values always behaves as a copy.\n",
      "\n",
      "For example, when doing 'df[col].method(value, inplace=True)', try using 'df.method({col: value}, inplace=True)' or df[col] = df[col].method(value) instead, to perform the operation inplace on the original object.\n",
      "\n",
      "\n",
      "  apps_df[col].fillna(apps_df[col].mode()[0],inplace=True)\n"
     ]
    }
   ],
   "source": [
    "apps_df = apps_df.dropna(subset=['Rating'])\n",
    "for col in apps_df.columns:\n",
    "    apps_df[col].fillna(apps_df[col].mode()[0],inplace=True)\n",
    "apps_df.drop_duplicates(inplace=True)\n",
    "apps_df=apps_df[apps_df['Rating']<=5]\n",
    "reviews_df.dropna(subset=['Translated_Review'],inplace=True)"
   ]
  },
  {
   "cell_type": "code",
   "execution_count": 9,
   "id": "1bd5681b-2a55-417b-bc18-2065da7bff53",
   "metadata": {},
   "outputs": [
    {
     "name": "stdout",
     "output_type": "stream",
     "text": [
      "App               0\n",
      "Category          0\n",
      "Rating            0\n",
      "Reviews           0\n",
      "Size              0\n",
      "Installs          0\n",
      "Type              0\n",
      "Price             0\n",
      "Content Rating    0\n",
      "Genres            0\n",
      "Last Updated      0\n",
      "Current Ver       0\n",
      "Android Ver       0\n",
      "dtype: int64\n"
     ]
    }
   ],
   "source": [
    "print(apps_df.isnull().sum())"
   ]
  },
  {
   "cell_type": "code",
   "execution_count": 10,
   "id": "dccf2d9d-6b7d-49fd-8aea-71798e6cf561",
   "metadata": {},
   "outputs": [],
   "source": [
    "apps_df['Installs'] = apps_df['Installs'].str.replace(',','').str.replace('+','').astype(int)\n",
    "apps_df['Price'] = apps_df['Price'].str.replace('$','').astype(float)"
   ]
  },
  {
   "cell_type": "markdown",
   "id": "6a0dc2aa-226a-4990-b9ec-d816f3e091e6",
   "metadata": {},
   "source": [
    "# data Transformation"
   ]
  },
  {
   "cell_type": "code",
   "execution_count": 11,
   "id": "10e395e3-5731-4fff-af93-d5248792c0bd",
   "metadata": {},
   "outputs": [],
   "source": [
    "def coverted_size(size):\n",
    "    if 'M' in size:\n",
    "        return float(size.replace('M',''))\n",
    "    elif 'k' in size:\n",
    "        return float(size.replace('k',''))/1024\n",
    "    else:\n",
    "        return np.nan\n",
    "apps_df['Size'] = apps_df['Size'].apply(coverted_size)"
   ]
  },
  {
   "cell_type": "markdown",
   "id": "cd4c7abb-3cc5-4f2d-b0f1-e50ab903bea1",
   "metadata": {},
   "source": [
    "# Change Data Type"
   ]
  },
  {
   "cell_type": "code",
   "execution_count": 12,
   "id": "8a34f766-34e6-4509-b028-5820259067b3",
   "metadata": {},
   "outputs": [],
   "source": [
    "apps_df['Reviews'] = apps_df['Reviews'].astype(int)"
   ]
  },
  {
   "cell_type": "markdown",
   "id": "947d450a-2a61-43b2-b2e9-9d254fc9a568",
   "metadata": {},
   "source": [
    "# Add log_installs and log_reviews columns"
   ]
  },
  {
   "cell_type": "code",
   "execution_count": 13,
   "id": "ccae788a-7218-4f79-8010-dd2594beaee1",
   "metadata": {},
   "outputs": [],
   "source": [
    "apps_df['Log_Installs'] = np.log1p(apps_df['Installs'])\n",
    "apps_df['Log_Reviews'] = np.log1p(apps_df['Reviews'])"
   ]
  },
  {
   "cell_type": "markdown",
   "id": "40d735f6-58c0-4be2-a430-eafab37c6033",
   "metadata": {},
   "source": [
    "# Add Rating Group column"
   ]
  },
  {
   "cell_type": "code",
   "execution_count": 14,
   "id": "59ebc325-e27a-419b-82c5-2d23e36146d6",
   "metadata": {},
   "outputs": [],
   "source": [
    "def rating_group(rating):\n",
    "    if rating >= 4:\n",
    "        return 'Top rated'\n",
    "    elif rating >= 3:\n",
    "        return 'Above average'\n",
    "    elif rating >= 2:\n",
    "        return 'Average'\n",
    "    else:\n",
    "        return 'Below average'\n",
    "\n",
    "apps_df['Rating_Group'] = apps_df['Rating'].apply(rating_group)"
   ]
  },
  {
   "cell_type": "markdown",
   "id": "a43d1717-4abc-42af-b645-0fba41dc5bc2",
   "metadata": {},
   "source": [
    "# Change Date column to date time format"
   ]
  },
  {
   "cell_type": "code",
   "execution_count": 15,
   "id": "6bb0ad90-d868-4e2a-af8c-edb2c90e66dd",
   "metadata": {},
   "outputs": [],
   "source": [
    "apps_df['Last Updated'] = pd.to_datetime(apps_df['Last Updated'],errors='coerce')\n",
    "apps_df['Year'] = apps_df['Last Updated'].dt.year"
   ]
  },
  {
   "cell_type": "markdown",
   "id": "4ad70df0-f30b-448d-9faa-b2256476e402",
   "metadata": {},
   "source": [
    "# Define the path for your HTML files"
   ]
  },
  {
   "cell_type": "code",
   "execution_count": 17,
   "id": "408d2381-e3d0-4070-9ec0-17dd8050b168",
   "metadata": {},
   "outputs": [],
   "source": [
    "html_files_path = \"./\"\n",
    "\n",
    "# Make sure the directory exists\n",
    "if not os.path.exists(html_files_path):\n",
    "    os.makedirs(html_files_path)\n",
    "\n",
    "# Initialize plot_containers\n",
    "plot_containers = \"\"\n",
    "\n",
    "# Save each Plotly figure to an HTML file\n",
    "def save_plot_as_html(fig, filename, insight):\n",
    "    global plot_containers\n",
    "    filepath = os.path.join(html_files_path, filename)\n",
    "    html_content = pio.to_html(fig, full_html=False, include_plotlyjs='inline')\n",
    "    # Append the plot and its insight to plot_containers\n",
    "    plot_containers += f\"\"\"\n",
    "    <div class=\"plot-container\" id=\"{filename}\" onclick=\"openPlot('{filename}')\">\n",
    "        <div class=\"plot\">{html_content}</div>\n",
    "        <div class=\"insights\">{insight}</div>\n",
    "    </div>\n",
    "    \"\"\"\n",
    "    fig.write_html(filepath, full_html=False, include_plotlyjs='inline')\n",
    "\n",
    "# Define your plots\n",
    "plot_width = 520\n",
    "plot_height = 520\n",
    "plot_bg_color = 'black'\n",
    "text_color = 'white'\n",
    "title_font = {'size': 16}\n",
    "axis_font = {'size': 12}"
   ]
  },
  {
   "cell_type": "markdown",
   "id": "41db35d4-1126-4fe8-974c-2888368c7036",
   "metadata": {},
   "source": [
    "# Task 1 \n",
    "Create a scatter plot to visualize the relationship between revenue and the number of installs for paid apps only. Add a trendline to show the correlation and color-code the points based on app categories.\n"
   ]
  },
  {
   "cell_type": "code",
   "execution_count": 18,
   "id": "cd0b8a5d-61f2-4d3f-bc7e-35741ff0b4c2",
   "metadata": {},
   "outputs": [],
   "source": [
    "# Create a revenue column for paid apps\n",
    "apps_df['Revenue'] = apps_df['Price'] * apps_df['Installs']\n",
    "\n",
    "# Filter for paid apps only\n",
    "paid_df = apps_df[apps_df['Type'] == 'Paid']\n",
    "\n",
    "\n",
    "fig1 = px.scatter(\n",
    "    paid_df,\n",
    "    x='Installs',\n",
    "    y='Revenue',\n",
    "    color='Category',\n",
    "    title='Revenue vs. Installs for Paid Apps',\n",
    "    color_discrete_sequence=px.colors.qualitative.Vivid,\n",
    "    labels={'Installs': 'Number of Installs', 'Revenue': 'Revenue (USD)'},\n",
    "    width=plot_width,\n",
    "    trendline='ols',\n",
    "    height=plot_height\n",
    ")\n",
    "fig1.update_layout(\n",
    "    plot_bgcolor=plot_bg_color,\n",
    "    paper_bgcolor=plot_bg_color,\n",
    "    font_color=text_color,\n",
    "    title_font=title_font,\n",
    "    xaxis=dict(title_font=axis_font),\n",
    "    yaxis=dict(title_font=axis_font),\n",
    "    margin=dict(l=10, r=10, t=30, b=10)\n",
    ")\n",
    "fig1.update_traces(marker=dict(line=dict(color=text_color, width=1)))\n",
    "save_plot_as_html(fig1, \"Paid_apps.html\", \"The scatter plot shows that paid apps, especially in Games and Productivity, have a positive correlation between revenue and installs. This indicates users are willing to pay for high-quality apps that offer utility or entertainment.\")"
   ]
  },
  {
   "cell_type": "code",
   "execution_count": null,
   "id": "0c55cbc8-d934-40cf-a165-1907dc9a414d",
   "metadata": {},
   "outputs": [],
   "source": []
  }
 ],
 "metadata": {
  "kernelspec": {
   "display_name": "Python 3 (ipykernel)",
   "language": "python",
   "name": "python3"
  },
  "language_info": {
   "codemirror_mode": {
    "name": "ipython",
    "version": 3
   },
   "file_extension": ".py",
   "mimetype": "text/x-python",
   "name": "python",
   "nbconvert_exporter": "python",
   "pygments_lexer": "ipython3",
   "version": "3.11.8"
  }
 },
 "nbformat": 4,
 "nbformat_minor": 5
}
