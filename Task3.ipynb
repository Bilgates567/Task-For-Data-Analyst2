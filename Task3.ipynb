{
 "cells": [
  {
   "cell_type": "code",
   "execution_count": 11,
   "id": "c5b5c850-e4ea-4855-af58-016c893a85e7",
   "metadata": {},
   "outputs": [],
   "source": [
    "import numpy as np\n",
    "import pandas as pd\n",
    "import matplotlib.pyplot as plt\n",
    "import seaborn as sns\n",
    "import plotly.express as px\n",
    "import plotly.io as pio\n",
    "from sklearn.model_selection import train_test_split\n",
    "from sklearn.ensemble import RandomForestRegressor\n",
    "from sklearn.metrics import r2_score,mean_squared_error\n",
    "from nltk.sentiment.vader import SentimentIntensityAnalyzer\n",
    "import nltk \n",
    "import webbrowser\n",
    "import os\n",
    "from plotly.subplots import make_subplots,go\n",
    "import datetime"
   ]
  },
  {
   "cell_type": "code",
   "execution_count": 2,
   "id": "d2310a31-3220-4f1b-86ba-e6f2e48eebeb",
   "metadata": {},
   "outputs": [],
   "source": [
    "apps_df = pd.read_csv(\"Play Store Data.csv\")\n",
    "reviews_df = pd.read_csv(\"User Reviews.csv\")"
   ]
  },
  {
   "cell_type": "code",
   "execution_count": 3,
   "id": "2b302f53-c45e-428a-b325-af11bcc5933f",
   "metadata": {},
   "outputs": [
    {
     "name": "stderr",
     "output_type": "stream",
     "text": [
      "C:\\Users\\arock\\AppData\\Local\\Temp\\ipykernel_5028\\3655530634.py:3: FutureWarning: A value is trying to be set on a copy of a DataFrame or Series through chained assignment using an inplace method.\n",
      "The behavior will change in pandas 3.0. This inplace method will never work because the intermediate object on which we are setting values always behaves as a copy.\n",
      "\n",
      "For example, when doing 'df[col].method(value, inplace=True)', try using 'df.method({col: value}, inplace=True)' or df[col] = df[col].method(value) instead, to perform the operation inplace on the original object.\n",
      "\n",
      "\n",
      "  apps_df[col].fillna(apps_df[col].mode()[0],inplace=True)\n"
     ]
    }
   ],
   "source": [
    "apps_df = apps_df.dropna(subset=['Rating'])\n",
    "for col in apps_df.columns:\n",
    "    apps_df[col].fillna(apps_df[col].mode()[0],inplace=True)\n",
    "apps_df.drop_duplicates(inplace=True)\n",
    "apps_df=apps_df[apps_df['Rating']<=5]\n",
    "reviews_df.dropna(subset=['Translated_Review'],inplace=True)"
   ]
  },
  {
   "cell_type": "code",
   "execution_count": 4,
   "id": "b16ea5a0-dfc3-4414-8798-a86b41ae922c",
   "metadata": {},
   "outputs": [],
   "source": [
    "apps_df['Installs'] = apps_df['Installs'].str.replace(',','').str.replace('+','').astype(int)\n",
    "apps_df['Price'] = apps_df['Price'].str.replace('$','').astype(float)"
   ]
  },
  {
   "cell_type": "code",
   "execution_count": 5,
   "id": "b61813c5-d348-4622-ae62-9ad6363c5cb6",
   "metadata": {},
   "outputs": [],
   "source": [
    "def coverted_size(size):\n",
    "    if 'M' in size:\n",
    "        return float(size.replace('M',''))\n",
    "    elif 'k' in size:\n",
    "        return float(size.replace('k',''))/1024\n",
    "    else:\n",
    "        return np.nan\n",
    "apps_df['Size'] = apps_df['Size'].apply(coverted_size)"
   ]
  },
  {
   "cell_type": "code",
   "execution_count": 6,
   "id": "b3068987-03bd-48f5-abe8-65d291506ab7",
   "metadata": {},
   "outputs": [],
   "source": [
    "apps_df['Reviews'] = apps_df['Reviews'].astype(int)"
   ]
  },
  {
   "cell_type": "code",
   "execution_count": 7,
   "id": "85d62f17-aa50-4bd8-a67a-ab6291b332c8",
   "metadata": {},
   "outputs": [],
   "source": [
    "apps_df['Log_Installs'] = np.log1p(apps_df['Installs'])\n",
    "apps_df['Log_Reviews'] = np.log1p(apps_df['Reviews'])"
   ]
  },
  {
   "cell_type": "code",
   "execution_count": 8,
   "id": "848b17f6-df53-42b6-9bc0-396f9add6d06",
   "metadata": {},
   "outputs": [],
   "source": [
    "def rating_group(rating):\n",
    "    if rating >= 4:\n",
    "        return 'Top rated'\n",
    "    elif rating >= 3:\n",
    "        return 'Above average'\n",
    "    elif rating >= 2:\n",
    "        return 'Average'\n",
    "    else:\n",
    "        return 'Below average'\n",
    "\n",
    "apps_df['Rating_Group'] = apps_df['Rating'].apply(rating_group)"
   ]
  },
  {
   "cell_type": "code",
   "execution_count": 9,
   "id": "97a8a448-b8a6-498f-b44e-783c6e5884ef",
   "metadata": {},
   "outputs": [],
   "source": [
    "apps_df['Last Updated'] = pd.to_datetime(apps_df['Last Updated'],errors='coerce')\n",
    "apps_df['Year'] = apps_df['Last Updated'].dt.year"
   ]
  },
  {
   "cell_type": "code",
   "execution_count": 10,
   "id": "f07c7c5e-5d83-4b48-8fe9-3389dd8374eb",
   "metadata": {},
   "outputs": [],
   "source": [
    "html_files_path = \"./\"\n",
    "\n",
    "# Make sure the directory exists\n",
    "if not os.path.exists(html_files_path):\n",
    "    os.makedirs(html_files_path)\n",
    "\n",
    "# Initialize plot_containers\n",
    "plot_containers = \"\"\n",
    "\n",
    "# Save each Plotly figure to an HTML file\n",
    "def save_plot_as_html(fig, filename, insight):\n",
    "    global plot_containers\n",
    "    filepath = os.path.join(html_files_path, filename)\n",
    "    html_content = pio.to_html(fig, full_html=False, include_plotlyjs='inline')\n",
    "    # Append the plot and its insight to plot_containers\n",
    "    plot_containers += f\"\"\"\n",
    "    <div class=\"plot-container\" id=\"{filename}\" onclick=\"openPlot('{filename}')\">\n",
    "        <div class=\"plot\">{html_content}</div>\n",
    "        <div class=\"insights\">{insight}</div>\n",
    "    </div>\n",
    "    \"\"\"\n",
    "    fig.write_html(filepath, full_html=False, include_plotlyjs='inline')\n",
    "\n",
    "# Define your plots\n",
    "plot_width = 520\n",
    "plot_height = 520\n",
    "plot_bg_color = 'black'\n",
    "text_color = 'white'\n",
    "title_font = {'size': 16}\n",
    "axis_font = {'size': 12}"
   ]
  },
  {
   "cell_type": "markdown",
   "id": "5cc30bd4-f901-4300-b7b2-6978d1dbe5be",
   "metadata": {},
   "source": [
    "# task 3\n",
    " Generate a heatmap to show the correlation matrix between installs, ratings, and review counts. Filter the data to include only apps that have been updated within the last year and have at least 100,000 installs and reviews count should be more than 1k and genres name should not be Starting with characters A , F , E , G , I , K . <b>This Graph should work only between 3 pm to 6 pm</b>\n"
   ]
  },
  {
   "cell_type": "code",
   "execution_count": 12,
   "id": "06ebf335-535a-450c-badd-ee960e86a6d1",
   "metadata": {},
   "outputs": [
    {
     "name": "stdout",
     "output_type": "stream",
     "text": [
      "This plot can only be generated between 3 PM and 6 PM.\n"
     ]
    }
   ],
   "source": [
    "current_hour = datetime.datetime.now().hour\n",
    "if 15 <= current_hour < 18:\n",
    "    filtered_df = apps_df[\n",
    "        (apps_df['Last Updated']>'2018-01-01') & \n",
    "        (apps_df['Installs'] >= 100000) & \n",
    "        (apps_df['Reviews'] >= 1000) & \n",
    "        (~apps_df['Genres'].str.startswith(('A', 'F', 'E', 'G', 'I', 'K')))\n",
    "    ]\n",
    "    \n",
    "    # Create a correlation matrix for Installs, Ratings, and Reviews\n",
    "    correlation_matrix = filtered_df[['Installs', 'Rating', 'Reviews']].corr()\n",
    "    \n",
    "    # Create a heatmap using Plotly\n",
    "    fig3 = px.imshow(\n",
    "        correlation_matrix,\n",
    "        text_auto=True,\n",
    "        color_continuous_scale='Viridis',\n",
    "        labels={'color': 'Correlation'},\n",
    "        title='Correlation Matrix: Installs, Ratings, and Reviews',\n",
    "        width=plot_width,\n",
    "        height=plot_height\n",
    "        \n",
    "        \n",
    "    )\n",
    "    \n",
    "    # Update layout for better appearance\n",
    "    fig3.update_layout(\n",
    "        plot_bgcolor=plot_bg_color,\n",
    "        paper_bgcolor=plot_bg_color,\n",
    "        font_color=text_color,\n",
    "        title_font=title_font,\n",
    "        width=plot_width,\n",
    "        height=plot_height,\n",
    "        margin=dict(l=10, r=10, t=30, b=10)\n",
    "    )\n",
    "    \n",
    "    # Save the plot\n",
    "    save_plot_as_html(fig3, \"correlation_matrix.html\", \"The heatmap shows the correlation between installs, ratings, and review counts for apps updated in the last year. Filtering for apps with over 100,000 installs and 1,000 reviews, while excluding certain genres, indicates that higher ratings correlate with more installs and reviews\")\n",
    "else:\n",
    "    print(\"This plot can only be generated between 3 PM and 6 PM.\")"
   ]
  },
  {
   "cell_type": "code",
   "execution_count": null,
   "id": "461ddac0-e2aa-41b7-80a5-5d326fbd1036",
   "metadata": {},
   "outputs": [],
   "source": []
  }
 ],
 "metadata": {
  "kernelspec": {
   "display_name": "Python 3 (ipykernel)",
   "language": "python",
   "name": "python3"
  },
  "language_info": {
   "codemirror_mode": {
    "name": "ipython",
    "version": 3
   },
   "file_extension": ".py",
   "mimetype": "text/x-python",
   "name": "python",
   "nbconvert_exporter": "python",
   "pygments_lexer": "ipython3",
   "version": "3.11.8"
  }
 },
 "nbformat": 4,
 "nbformat_minor": 5
}
