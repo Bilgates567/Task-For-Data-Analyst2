{
 "cells": [
  {
   "cell_type": "code",
   "execution_count": 13,
   "id": "9993de9d-a34a-45e0-afe1-cfd0b0ca4728",
   "metadata": {},
   "outputs": [],
   "source": [
    "import numpy as np\n",
    "import pandas as pd\n",
    "import matplotlib.pyplot as plt\n",
    "import seaborn as sns\n",
    "import plotly.express as px\n",
    "import plotly.io as pio\n",
    "from sklearn.model_selection import train_test_split\n",
    "from sklearn.ensemble import RandomForestRegressor\n",
    "from sklearn.metrics import r2_score,mean_squared_error\n",
    "from nltk.sentiment.vader import SentimentIntensityAnalyzer\n",
    "import nltk \n",
    "import webbrowser\n",
    "import os\n",
    "from plotly.subplots import make_subplots,go"
   ]
  },
  {
   "cell_type": "markdown",
   "id": "5fc55ac9-6464-4012-b46b-b74b394c8164",
   "metadata": {},
   "source": [
    "# Load DataSet"
   ]
  },
  {
   "cell_type": "code",
   "execution_count": 2,
   "id": "ea28f5a9-d740-4872-b1ef-2ce0db2a82cb",
   "metadata": {},
   "outputs": [],
   "source": [
    "apps_df = pd.read_csv(\"Play Store Data.csv\")\n",
    "reviews_df = pd.read_csv(\"User Reviews.csv\")"
   ]
  },
  {
   "cell_type": "code",
   "execution_count": 3,
   "id": "d976d78b-067c-438d-a0d1-e0917fab2418",
   "metadata": {},
   "outputs": [
    {
     "data": {
      "text/html": [
       "<div>\n",
       "<style scoped>\n",
       "    .dataframe tbody tr th:only-of-type {\n",
       "        vertical-align: middle;\n",
       "    }\n",
       "\n",
       "    .dataframe tbody tr th {\n",
       "        vertical-align: top;\n",
       "    }\n",
       "\n",
       "    .dataframe thead th {\n",
       "        text-align: right;\n",
       "    }\n",
       "</style>\n",
       "<table border=\"1\" class=\"dataframe\">\n",
       "  <thead>\n",
       "    <tr style=\"text-align: right;\">\n",
       "      <th></th>\n",
       "      <th>App</th>\n",
       "      <th>Category</th>\n",
       "      <th>Rating</th>\n",
       "      <th>Reviews</th>\n",
       "      <th>Size</th>\n",
       "      <th>Installs</th>\n",
       "      <th>Type</th>\n",
       "      <th>Price</th>\n",
       "      <th>Content Rating</th>\n",
       "      <th>Genres</th>\n",
       "      <th>Last Updated</th>\n",
       "      <th>Current Ver</th>\n",
       "      <th>Android Ver</th>\n",
       "    </tr>\n",
       "  </thead>\n",
       "  <tbody>\n",
       "    <tr>\n",
       "      <th>0</th>\n",
       "      <td>Photo Editor &amp; Candy Camera &amp; Grid &amp; ScrapBook</td>\n",
       "      <td>ART_AND_DESIGN</td>\n",
       "      <td>4.1</td>\n",
       "      <td>159</td>\n",
       "      <td>19M</td>\n",
       "      <td>10,000+</td>\n",
       "      <td>Free</td>\n",
       "      <td>0</td>\n",
       "      <td>Everyone</td>\n",
       "      <td>Art &amp; Design</td>\n",
       "      <td>January 7, 2018</td>\n",
       "      <td>1.0.0</td>\n",
       "      <td>4.0.3 and up</td>\n",
       "    </tr>\n",
       "    <tr>\n",
       "      <th>1</th>\n",
       "      <td>Coloring book moana</td>\n",
       "      <td>ART_AND_DESIGN</td>\n",
       "      <td>3.9</td>\n",
       "      <td>967</td>\n",
       "      <td>14M</td>\n",
       "      <td>500,000+</td>\n",
       "      <td>Free</td>\n",
       "      <td>0</td>\n",
       "      <td>Everyone</td>\n",
       "      <td>Art &amp; Design;Pretend Play</td>\n",
       "      <td>January 15, 2018</td>\n",
       "      <td>2.0.0</td>\n",
       "      <td>4.0.3 and up</td>\n",
       "    </tr>\n",
       "    <tr>\n",
       "      <th>2</th>\n",
       "      <td>U Launcher Lite – FREE Live Cool Themes, Hide ...</td>\n",
       "      <td>ART_AND_DESIGN</td>\n",
       "      <td>4.7</td>\n",
       "      <td>87510</td>\n",
       "      <td>8.7M</td>\n",
       "      <td>5,000,000+</td>\n",
       "      <td>Free</td>\n",
       "      <td>0</td>\n",
       "      <td>Everyone</td>\n",
       "      <td>Art &amp; Design</td>\n",
       "      <td>August 1, 2018</td>\n",
       "      <td>1.2.4</td>\n",
       "      <td>4.0.3 and up</td>\n",
       "    </tr>\n",
       "    <tr>\n",
       "      <th>3</th>\n",
       "      <td>Sketch - Draw &amp; Paint</td>\n",
       "      <td>ART_AND_DESIGN</td>\n",
       "      <td>4.5</td>\n",
       "      <td>215644</td>\n",
       "      <td>25M</td>\n",
       "      <td>50,000,000+</td>\n",
       "      <td>Free</td>\n",
       "      <td>0</td>\n",
       "      <td>Teen</td>\n",
       "      <td>Art &amp; Design</td>\n",
       "      <td>June 8, 2018</td>\n",
       "      <td>Varies with device</td>\n",
       "      <td>4.2 and up</td>\n",
       "    </tr>\n",
       "    <tr>\n",
       "      <th>4</th>\n",
       "      <td>Pixel Draw - Number Art Coloring Book</td>\n",
       "      <td>ART_AND_DESIGN</td>\n",
       "      <td>4.3</td>\n",
       "      <td>967</td>\n",
       "      <td>2.8M</td>\n",
       "      <td>100,000+</td>\n",
       "      <td>Free</td>\n",
       "      <td>0</td>\n",
       "      <td>Everyone</td>\n",
       "      <td>Art &amp; Design;Creativity</td>\n",
       "      <td>June 20, 2018</td>\n",
       "      <td>1.1</td>\n",
       "      <td>4.4 and up</td>\n",
       "    </tr>\n",
       "  </tbody>\n",
       "</table>\n",
       "</div>"
      ],
      "text/plain": [
       "                                                 App        Category  Rating  \\\n",
       "0     Photo Editor & Candy Camera & Grid & ScrapBook  ART_AND_DESIGN     4.1   \n",
       "1                                Coloring book moana  ART_AND_DESIGN     3.9   \n",
       "2  U Launcher Lite – FREE Live Cool Themes, Hide ...  ART_AND_DESIGN     4.7   \n",
       "3                              Sketch - Draw & Paint  ART_AND_DESIGN     4.5   \n",
       "4              Pixel Draw - Number Art Coloring Book  ART_AND_DESIGN     4.3   \n",
       "\n",
       "  Reviews  Size     Installs  Type Price Content Rating  \\\n",
       "0     159   19M      10,000+  Free     0       Everyone   \n",
       "1     967   14M     500,000+  Free     0       Everyone   \n",
       "2   87510  8.7M   5,000,000+  Free     0       Everyone   \n",
       "3  215644   25M  50,000,000+  Free     0           Teen   \n",
       "4     967  2.8M     100,000+  Free     0       Everyone   \n",
       "\n",
       "                      Genres      Last Updated         Current Ver  \\\n",
       "0               Art & Design   January 7, 2018               1.0.0   \n",
       "1  Art & Design;Pretend Play  January 15, 2018               2.0.0   \n",
       "2               Art & Design    August 1, 2018               1.2.4   \n",
       "3               Art & Design      June 8, 2018  Varies with device   \n",
       "4    Art & Design;Creativity     June 20, 2018                 1.1   \n",
       "\n",
       "    Android Ver  \n",
       "0  4.0.3 and up  \n",
       "1  4.0.3 and up  \n",
       "2  4.0.3 and up  \n",
       "3    4.2 and up  \n",
       "4    4.4 and up  "
      ]
     },
     "execution_count": 3,
     "metadata": {},
     "output_type": "execute_result"
    }
   ],
   "source": [
    "apps_df.head()"
   ]
  },
  {
   "cell_type": "code",
   "execution_count": 4,
   "id": "fdeb3eda-9888-4197-8d53-a010553809e2",
   "metadata": {},
   "outputs": [
    {
     "name": "stdout",
     "output_type": "stream",
     "text": [
      "App                  0\n",
      "Category             0\n",
      "Rating            1474\n",
      "Reviews              0\n",
      "Size                 0\n",
      "Installs             0\n",
      "Type                 1\n",
      "Price                0\n",
      "Content Rating       1\n",
      "Genres               0\n",
      "Last Updated         0\n",
      "Current Ver          8\n",
      "Android Ver          3\n",
      "dtype: int64\n"
     ]
    }
   ],
   "source": [
    "print(apps_df.isnull().sum())"
   ]
  },
  {
   "cell_type": "markdown",
   "id": "6b75609f-c74a-4321-a91b-aa43b7aaec8a",
   "metadata": {},
   "source": [
    "# data cleaning"
   ]
  },
  {
   "cell_type": "code",
   "execution_count": 5,
   "id": "1affd079-0e17-496b-8979-ee7bd87a1ce9",
   "metadata": {},
   "outputs": [
    {
     "name": "stderr",
     "output_type": "stream",
     "text": [
      "C:\\Users\\arock\\AppData\\Local\\Temp\\ipykernel_23960\\3655530634.py:3: FutureWarning: A value is trying to be set on a copy of a DataFrame or Series through chained assignment using an inplace method.\n",
      "The behavior will change in pandas 3.0. This inplace method will never work because the intermediate object on which we are setting values always behaves as a copy.\n",
      "\n",
      "For example, when doing 'df[col].method(value, inplace=True)', try using 'df.method({col: value}, inplace=True)' or df[col] = df[col].method(value) instead, to perform the operation inplace on the original object.\n",
      "\n",
      "\n",
      "  apps_df[col].fillna(apps_df[col].mode()[0],inplace=True)\n"
     ]
    }
   ],
   "source": [
    "apps_df = apps_df.dropna(subset=['Rating'])\n",
    "for col in apps_df.columns:\n",
    "    apps_df[col].fillna(apps_df[col].mode()[0],inplace=True)\n",
    "apps_df.drop_duplicates(inplace=True)\n",
    "apps_df=apps_df[apps_df['Rating']<=5]\n",
    "reviews_df.dropna(subset=['Translated_Review'],inplace=True)"
   ]
  },
  {
   "cell_type": "code",
   "execution_count": 6,
   "id": "4fb69400-2acf-4594-ad32-68faa5d38638",
   "metadata": {},
   "outputs": [],
   "source": [
    "apps_df['Installs'] = apps_df['Installs'].str.replace(',','').str.replace('+','').astype(int)\n",
    "apps_df['Price'] = apps_df['Price'].str.replace('$','').astype(float)"
   ]
  },
  {
   "cell_type": "code",
   "execution_count": 7,
   "id": "62831ab5-473a-40cc-a086-3238e919a3c9",
   "metadata": {},
   "outputs": [],
   "source": [
    "def coverted_size(size):\n",
    "    if 'M' in size:\n",
    "        return float(size.replace('M',''))\n",
    "    elif 'k' in size:\n",
    "        return float(size.replace('k',''))/1024\n",
    "    else:\n",
    "        return np.nan\n",
    "apps_df['Size'] = apps_df['Size'].apply(coverted_size)"
   ]
  },
  {
   "cell_type": "code",
   "execution_count": 8,
   "id": "2369351a-341a-4a46-a3bd-a59708245251",
   "metadata": {},
   "outputs": [],
   "source": [
    "apps_df['Reviews'] = apps_df['Reviews'].astype(int)"
   ]
  },
  {
   "cell_type": "code",
   "execution_count": 9,
   "id": "e6fa0128-0ee2-4763-bced-54f00ecd4611",
   "metadata": {},
   "outputs": [],
   "source": [
    "apps_df['Log_Installs'] = np.log1p(apps_df['Installs'])\n",
    "apps_df['Log_Reviews'] = np.log1p(apps_df['Reviews'])"
   ]
  },
  {
   "cell_type": "code",
   "execution_count": 10,
   "id": "1f7de56d-bdd0-4b16-9af1-d9837210605d",
   "metadata": {},
   "outputs": [],
   "source": [
    "def rating_group(rating):\n",
    "    if rating >= 4:\n",
    "        return 'Top rated'\n",
    "    elif rating >= 3:\n",
    "        return 'Above average'\n",
    "    elif rating >= 2:\n",
    "        return 'Average'\n",
    "    else:\n",
    "        return 'Below average'\n",
    "\n",
    "apps_df['Rating_Group'] = apps_df['Rating'].apply(rating_group)"
   ]
  },
  {
   "cell_type": "code",
   "execution_count": 11,
   "id": "55222882-c570-49ba-9356-c3028b996a33",
   "metadata": {},
   "outputs": [],
   "source": [
    "apps_df['Last Updated'] = pd.to_datetime(apps_df['Last Updated'],errors='coerce')\n",
    "apps_df['Year'] = apps_df['Last Updated'].dt.year"
   ]
  },
  {
   "cell_type": "code",
   "execution_count": 12,
   "id": "86b5e279-f86f-494f-aca3-6207d76d45d5",
   "metadata": {},
   "outputs": [],
   "source": [
    "html_files_path = \"./\"\n",
    "\n",
    "# Make sure the directory exists\n",
    "if not os.path.exists(html_files_path):\n",
    "    os.makedirs(html_files_path)\n",
    "\n",
    "# Initialize plot_containers\n",
    "plot_containers = \"\"\n",
    "\n",
    "# Save each Plotly figure to an HTML file\n",
    "def save_plot_as_html(fig, filename, insight):\n",
    "    global plot_containers\n",
    "    filepath = os.path.join(html_files_path, filename)\n",
    "    html_content = pio.to_html(fig, full_html=False, include_plotlyjs='inline')\n",
    "    # Append the plot and its insight to plot_containers\n",
    "    plot_containers += f\"\"\"\n",
    "    <div class=\"plot-container\" id=\"{filename}\" onclick=\"openPlot('{filename}')\">\n",
    "        <div class=\"plot\">{html_content}</div>\n",
    "        <div class=\"insights\">{insight}</div>\n",
    "    </div>\n",
    "    \"\"\"\n",
    "    fig.write_html(filepath, full_html=False, include_plotlyjs='inline')\n",
    "\n",
    "# Define your plots\n",
    "plot_width = 520\n",
    "plot_height = 520\n",
    "plot_bg_color = 'black'\n",
    "text_color = 'white'\n",
    "title_font = {'size': 16}\n",
    "axis_font = {'size': 12}"
   ]
  },
  {
   "cell_type": "markdown",
   "id": "59671a14-2699-4d57-9a77-e02012c81af5",
   "metadata": {},
   "source": [
    "# Task2\n",
    ". Create a dual-axis chart comparing the average installs and revenue for free vs. paid apps within the top 3 app categories. Apply filters to exclude apps with fewer than 10,000 installs and revenue below $10,000 and android version should be more than 4.0 as well as size should be more than 15M and content rating should be Everyone and app name should not have more than 30 characters including space and special character"
   ]
  },
  {
   "cell_type": "code",
   "execution_count": 15,
   "id": "43b150b2-deb4-460b-8b68-468bdceb5d37",
   "metadata": {},
   "outputs": [],
   "source": [
    "# Create a revenue column for paid apps\n",
    "apps_df['Revenue'] = apps_df['Price'] * apps_df['Installs']\n",
    "\n",
    "# Filter for paid apps only\n",
    "paid_df = apps_df[apps_df['Type'] == 'Paid']"
   ]
  },
  {
   "cell_type": "code",
   "execution_count": 16,
   "id": "8fe24568-96e0-45a0-92e9-3c98f088dc6b",
   "metadata": {},
   "outputs": [],
   "source": [
    "# Calculate average installs and revenue for free vs. paid apps within the top 3 categories\n",
    "top_categories = apps_df['Category'].value_counts().nlargest(3).index\n",
    "filtered_df = apps_df[\n",
    "    (apps_df['Installs'] > 10000) & \n",
    "    (apps_df['Revenue'] > 10000) &\n",
    "    (apps_df['Android Ver'] > '4.0') & \n",
    "    (apps_df['Size'] > 15) &  # Size in bytes\n",
    "    (apps_df['Content Rating'] == 'Everyone') &\n",
    "    (apps_df['App'].str.len() <= 30) & \n",
    "    (apps_df['Category'].isin(top_categories))\n",
    "]\n",
    "\n",
    "# Group by category and type (Free or Paid) to get average installs and revenue\n",
    "grouped_df = filtered_df.groupby(['Category', 'Type']).agg(\n",
    "    avg_installs=('Installs', 'mean'),\n",
    "    avg_revenue=('Revenue', 'mean')\n",
    ").reset_index()\n",
    "\n",
    "# Create a dual-axis chart with Plotly\n",
    "fig2 = make_subplots(specs=[[{\"secondary_y\": True}]])  # Create dual axis\n",
    "\n",
    "# Add bar chart for average installs\n",
    "fig2.add_trace(\n",
    "    go.Bar(x=grouped_df['Category'], y=grouped_df['avg_installs'], name=\"Average Installs\", marker_color='blue'),\n",
    "    secondary_y=False,\n",
    ")\n",
    "\n",
    "# Add line chart for average revenue\n",
    "fig2.add_trace(\n",
    "    go.Scatter(x=grouped_df['Category'], y=grouped_df['avg_revenue'], name=\"Average Revenue\", mode='lines+markers', line=dict(color='green')),\n",
    "    secondary_y=True\n",
    ")\n",
    "\n",
    "# Update layout for better appearance\n",
    "fig2.update_layout(\n",
    "    title_text=\"Average Installs & Revenue for Free vs.Paid Apps Top 3 Categories\",\n",
    "    plot_bgcolor=plot_bg_color,\n",
    "    paper_bgcolor=plot_bg_color,\n",
    "    font_color=text_color,\n",
    "    title_font=title_font,\n",
    "    margin=dict(l=10, r=10, t=30, b=10),\n",
    "    width=512,\n",
    "    height=512 \n",
    ")\n",
    "\n",
    "# Add axis titles\n",
    "fig2.update_xaxes(title_text=\"App Category\")\n",
    "fig2.update_yaxes(title_text=\"Average Installs\", secondary_y=False)\n",
    "fig2.update_yaxes(title_text=\"Average Revenue (USD)\", secondary_y=True)\n",
    "\n",
    "# Save the plot\n",
    "save_plot_as_html(fig2, \"average_installs_revenue.html\", \"The dual-axis chart shows that, after filtering for installs, revenue, and ratings, paid apps generally generate higher revenue, while free apps attract more installs. This suggests users prefer accessible free apps.\")\n"
   ]
  },
  {
   "cell_type": "code",
   "execution_count": null,
   "id": "d33a869a-3ba4-4a94-8b5f-14fc5c992669",
   "metadata": {},
   "outputs": [],
   "source": []
  }
 ],
 "metadata": {
  "kernelspec": {
   "display_name": "Python 3 (ipykernel)",
   "language": "python",
   "name": "python3"
  },
  "language_info": {
   "codemirror_mode": {
    "name": "ipython",
    "version": 3
   },
   "file_extension": ".py",
   "mimetype": "text/x-python",
   "name": "python",
   "nbconvert_exporter": "python",
   "pygments_lexer": "ipython3",
   "version": "3.11.8"
  }
 },
 "nbformat": 4,
 "nbformat_minor": 5
}
